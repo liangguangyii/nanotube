{
 "cells": [
  {
   "cell_type": "code",
   "execution_count": 1,
   "metadata": {},
   "outputs": [],
   "source": [
    "import numpy as np"
   ]
  },
  {
   "cell_type": "code",
   "execution_count": 107,
   "metadata": {},
   "outputs": [],
   "source": [
    "def grepheneGenerate(bondLength, rowNumber, columnNumber):\n",
    "\n",
    "    #* initialize the first row of graphene lattice(n+1 column)\n",
    "\n",
    "    hexagonList = []\n",
    "    rowList = []\n",
    "    grapheneList = []\n",
    "\n",
    "    hexagonList.append([0.0, - bondLength])\n",
    "    hexagonList.append([np.sqrt(3.0)/2.0 * bondLength, -bondLength/2.0])\n",
    "    hexagonList.append([np.sqrt(3.0)/2.0 * bondLength, bondLength/2.0])\n",
    "    hexagonList.append([0.0, bondLength])\n",
    "    hexagonList.append([-np.sqrt(3.0)/2.0 * bondLength, bondLength/2.0])\n",
    "    hexagonList.append([-np.sqrt(3.0)/2.0 * bondLength, -bondLength/2.0])\n",
    "\n",
    "    #* initialize rowList\n",
    "    for pnt in hexagonList:\n",
    "        rowList.append(pnt.copy())\n",
    "\n",
    "\n",
    "\n",
    "    ###############################################\n",
    "    #* iteration in one row\n",
    "    oldtmplist = hexagonList[0:4].copy()\n",
    "\n",
    "    for i in range(1, columnNumber):\n",
    "        tmplist = []\n",
    "\n",
    "        #* translate the old hexagon to the new hexagon\n",
    "        for old_pnt in oldtmplist:\n",
    "            tmppoint = [old_pnt[0] + np.sqrt(3.0) * bondLength, old_pnt[1]]\n",
    "            rowList.append(tmppoint.copy())\n",
    "            tmplist.append(tmppoint.copy()) \n",
    "        \n",
    "        # #*debug\n",
    "        # print(f\"{len(rowList)}\")\n",
    "        \n",
    "        oldtmplist = tmplist.copy()\n",
    "\n",
    "    ###############################################\n",
    "\n",
    "    #* initialize the grapheneList\n",
    "    for pnt in rowList:\n",
    "        grapheneList.append(pnt.copy())\n",
    "\n",
    "\n",
    "    old_nprowList = np.array(rowList)\n",
    "    tVecList = [[np.sqrt(3.0)/2.0 * bondLength, 3.0/2.0 * bondLength], [-np.sqrt(3.0)/2.0 * bondLength, 3.0/2.0 * bondLength]]\n",
    "\n",
    "    for i in range(1, rowNumber):\n",
    "        tVec = tVecList[(i-1)%2]\n",
    "        \n",
    "        nprowList = old_nprowList + tVec\n",
    "        rowList = nprowList.tolist()\n",
    "        old_nprowList = np.array(nprowList.copy())\n",
    "\n",
    "        #* remove the duplicate points\n",
    "        set_rowList = []\n",
    "        set_rowList.append(rowList[2].copy())   \n",
    "        set_rowList.append(rowList[3].copy())\n",
    "        set_rowList.append(rowList[4].copy())\n",
    "\n",
    "        for j in range(1, columnNumber):\n",
    "            set_rowList.append(rowList[4*j + 4].copy())\n",
    "            set_rowList.append(rowList[4*j + 5].copy())\n",
    "        \n",
    "        #* add the boundary points, different in odd and even row\n",
    "        if (i+1)%2 == 0:\n",
    "            set_rowList.append(rowList[4*columnNumber -1].copy())\n",
    "        else:\n",
    "            set_rowList.append(rowList[5].copy())\n",
    "\n",
    "\n",
    "\n",
    "        for pnt in set_rowList:\n",
    "            grapheneList.append(pnt.copy())\n",
    "\n",
    "\n",
    "    grapheneList = np.array(grapheneList)\n",
    "\n",
    "    #* it should be 2*(columnNumber+1)*rowNumber + 2*columnNumber\n",
    "    print(f\"{grapheneList.shape},{2*(columnNumber+1)*rowNumber + 2*columnNumber}\")\n",
    "    # grapheneList = np.unique(grapheneList, axis=0)\n",
    "    # print(f\"{grapheneList.shape}\")\n",
    "\n",
    "    return grapheneList"
   ]
  },
  {
   "cell_type": "code",
   "execution_count": 110,
   "metadata": {},
   "outputs": [
    {
     "name": "stdout",
     "output_type": "stream",
     "text": [
      "(240, 2),240\n"
     ]
    }
   ],
   "source": [
    "#*input parameters\n",
    "\n",
    "\"\"\"\n",
    "@breif:  input parameters of 2d graphene lattice\n",
    "@parameter rowNumber: the number of rows of graphene lattice\n",
    "@parameter columnNumber: the number of maximum columns of graphene lattice\n",
    "\"\"\"\n",
    "\n",
    "bondLength = 1.0\n",
    "rowNumber = 10\n",
    "columnNumber = 10\n",
    "\n",
    "###############################################\n",
    "\n",
    "\n",
    "grapheneList = grepheneGenerate(bondLength, rowNumber, columnNumber)\n"
   ]
  },
  {
   "cell_type": "code",
   "execution_count": 111,
   "metadata": {},
   "outputs": [
    {
     "data": {
      "image/png": "[encoded data removed]",
      "text/plain": [
       "<Figure size 1200x1200 with 1 Axes>"
      ]
     },
     "metadata": {},
     "output_type": "display_data"
    }
   ],
   "source": [
    "import matplotlib.pyplot as plt\n",
    "\n",
    "xlist = grapheneList[:, 0].copy()\n",
    "ylist = grapheneList[:, 1].copy()\n",
    "\n",
    "fig, ax = plt.subplots(figsize=(12, 12))\n",
    "ax.plot(xlist, ylist, 'o')\n",
    "ax.set_aspect('equal')\n",
    "\n",
    "plt.show()"
   ]
  },
  {
   "cell_type": "code",
   "execution_count": 30,
   "metadata": {},
   "outputs": [
    {
     "data": {
      "text/plain": [
       "(50, 2)"
      ]
     },
     "execution_count": 30,
     "metadata": {},
     "output_type": "execute_result"
    }
   ],
   "source": [
    "rowList.shape"
   ]
  }
 ],
 "metadata": {
  "kernelspec": {
   "display_name": "deepL",
   "language": "python",
   "name": "python3"
  },
  "language_info": {
   "codemirror_mode": {
    "name": "ipython",
    "version": 3
   },
   "file_extension": ".py",
   "mimetype": "text/x-python",
   "name": "python",
   "nbconvert_exporter": "python",
   "pygments_lexer": "ipython3",
   "version": "3.7.16"
  }
 },
 "nbformat": 4,
 "nbformat_minor": 2
}
